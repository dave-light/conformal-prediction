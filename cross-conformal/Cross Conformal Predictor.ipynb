{
 "cells": [
  {
   "cell_type": "markdown",
   "metadata": {},
   "source": [
    "# Cross Conformal Predictor"
   ]
  },
  {
   "cell_type": "markdown",
   "metadata": {},
   "source": [
    "# 1"
   ]
  },
  {
   "cell_type": "code",
   "execution_count": 35,
   "metadata": {},
   "outputs": [],
   "source": [
    "from sklearn.datasets import load_wine\n",
    "from sklearn.model_selection import train_test_split\n",
    "import numpy as np\n",
    "import math\n",
    "import matplotlib.pyplot as plt\n",
    "from sklearn.model_selection import cross_val_score\n",
    "from sklearn.svm import SVC\n",
    "from sklearn.pipeline import make_pipeline\n",
    "from sklearn.preprocessing import MinMaxScaler\n",
    "from sklearn.preprocessing import Normalizer\n",
    "from sklearn.preprocessing import StandardScaler\n",
    "from sklearn.preprocessing import RobustScaler\n",
    "from sklearn.model_selection import GridSearchCV\n",
    "from sklearn.model_selection import KFold"
   ]
  },
  {
   "cell_type": "markdown",
   "metadata": {},
   "source": [
    "np.concat"
   ]
  },
  {
   "cell_type": "markdown",
   "metadata": {},
   "source": [
    "#### USPS data"
   ]
  },
  {
   "cell_type": "code",
   "execution_count": 36,
   "metadata": {},
   "outputs": [],
   "source": [
    "X = np.genfromtxt(\"zip.data\", delimiter=\" \",\n",
    "usecols=np.arange(1, 257))\n",
    "\n",
    "y = np.genfromtxt(\"zip.data\", delimiter=\" \", \n",
    "usecols=0)"
   ]
  },
  {
   "cell_type": "code",
   "execution_count": 37,
   "metadata": {},
   "outputs": [
    {
     "data": {
      "text/plain": [
       "(9298,)"
      ]
     },
     "execution_count": 37,
     "metadata": {},
     "output_type": "execute_result"
    }
   ],
   "source": [
    "y.shape"
   ]
  },
  {
   "cell_type": "code",
   "execution_count": 38,
   "metadata": {},
   "outputs": [
    {
     "data": {
      "text/plain": [
       "256"
      ]
     },
     "execution_count": 38,
     "metadata": {},
     "output_type": "execute_result"
    }
   ],
   "source": [
    "X.shape[1]"
   ]
  },
  {
   "cell_type": "code",
   "execution_count": 168,
   "metadata": {},
   "outputs": [
    {
     "name": "stdout",
     "output_type": "stream",
     "text": [
      "[-1.    -1.    -1.    -1.    -1.    -1.    -1.    -0.858 -0.106  0.802\n",
      " -0.21  -1.    -1.    -1.    -1.    -1.    -1.    -1.    -1.    -1.\n",
      " -1.    -1.    -0.854  0.597  1.     0.798 -0.388 -1.    -1.    -1.\n",
      " -1.    -1.    -1.    -1.    -1.    -1.    -1.    -0.481  0.6    1.\n",
      "  0.653 -0.78  -1.    -1.    -1.    -1.    -1.    -1.    -1.    -1.\n",
      " -1.    -1.    -0.386  0.913  1.     0.658 -0.825 -1.    -1.    -1.\n",
      " -1.    -1.    -1.    -1.    -1.    -1.    -1.    -0.373  0.939  0.999\n",
      "  0.129 -0.835 -1.    -1.    -1.    -1.    -1.    -1.    -1.    -1.\n",
      " -1.    -1.    -0.34   0.986  1.     0.007 -1.    -1.    -1.    -1.\n",
      " -1.    -1.    -1.    -1.    -1.    -1.    -1.    -0.741  0.763  1.\n",
      "  0.119 -0.986 -1.    -1.    -1.    -1.    -1.    -1.    -1.    -1.\n",
      " -1.    -1.    -1.     0.271  1.     0.879 -0.871 -1.    -1.    -1.\n",
      " -1.    -1.    -1.    -1.    -1.    -1.    -1.    -1.    -0.62   0.933\n",
      "  0.983 -0.349 -1.    -1.    -1.    -1.    -1.    -1.    -0.93  -0.356\n",
      "  0.552  0.647  0.618 -0.633  0.148  1.     0.549 -1.    -1.    -1.\n",
      " -1.    -1.    -0.853 -0.172  0.666  1.     1.     1.     1.     0.821\n",
      "  0.861  1.     0.086 -1.    -1.    -1.    -1.    -0.28   0.878  1.\n",
      "  1.     0.806 -0.097 -0.191  1.     0.695  0.909  1.    -0.666 -1.\n",
      " -1.    -1.    -0.316  0.999  1.     0.712 -0.53  -0.995 -0.859  0.569\n",
      "  1.    -0.267  0.955  1.    -0.552 -1.    -1.    -1.     0.646  1.\n",
      "  0.317 -0.926 -1.    -0.849  0.598  1.     0.169 -0.97   0.631  1.\n",
      "  0.754  0.046 -0.244 -0.661  0.984  1.     0.142 -0.584  0.075  0.833\n",
      "  1.     0.123 -0.963 -1.    -0.537  0.896  1.     1.     1.     1.\n",
      "  1.     1.     1.     1.     1.     0.83  -0.387 -0.976 -1.    -1.\n",
      " -1.    -0.697 -0.108  0.312  0.901  0.901  0.901  0.901  0.901  0.29\n",
      " -0.369 -0.867 -1.    -1.    -1.    -1.   ]\n"
     ]
    }
   ],
   "source": [
    "print(X[4])"
   ]
  },
  {
   "cell_type": "markdown",
   "metadata": {},
   "source": [
    "#### Wine data"
   ]
  },
  {
   "cell_type": "code",
   "execution_count": 40,
   "metadata": {},
   "outputs": [],
   "source": [
    "wine = load_wine()"
   ]
  },
  {
   "cell_type": "markdown",
   "metadata": {},
   "source": [
    "# 2"
   ]
  },
  {
   "cell_type": "markdown",
   "metadata": {},
   "source": [
    "#### USPS data"
   ]
  },
  {
   "cell_type": "code",
   "execution_count": 151,
   "metadata": {},
   "outputs": [],
   "source": [
    "X_train, X_test, y_train, y_test = train_test_split(X, y, random_state=1201)"
   ]
  },
  {
   "cell_type": "code",
   "execution_count": 152,
   "metadata": {},
   "outputs": [
    {
     "name": "stdout",
     "output_type": "stream",
     "text": [
      "y training shape (6973,)\n",
      "x training shape (6973, 256)\n"
     ]
    }
   ],
   "source": [
    "print('y training shape', y_train.shape)\n",
    "print('x training shape', X_train.shape)"
   ]
  },
  {
   "cell_type": "code",
   "execution_count": 153,
   "metadata": {},
   "outputs": [
    {
     "data": {
      "text/plain": [
       "(2325, 256)"
      ]
     },
     "execution_count": 153,
     "metadata": {},
     "output_type": "execute_result"
    }
   ],
   "source": [
    "X_test.shape"
   ]
  },
  {
   "cell_type": "markdown",
   "metadata": {},
   "source": [
    "#### Wine data"
   ]
  },
  {
   "cell_type": "code",
   "execution_count": 150,
   "metadata": {},
   "outputs": [
    {
     "name": "stdout",
     "output_type": "stream",
     "text": [
      "y training shape (133,)\n",
      "x training shape (133, 13)\n"
     ]
    }
   ],
   "source": [
    "X_train_w, X_test_w, y_train_w, y_test_w = train_test_split(wine.data, wine.target, random_state=1201)\n",
    "print('y training shape', y_train_w.shape)\n",
    "print('x training shape', X_train_w.shape)"
   ]
  },
  {
   "cell_type": "code",
   "execution_count": 148,
   "metadata": {},
   "outputs": [
    {
     "data": {
      "text/plain": [
       "(45, 13)"
      ]
     },
     "execution_count": 148,
     "metadata": {},
     "output_type": "execute_result"
    }
   ],
   "source": [
    "X_test_w.shape"
   ]
  },
  {
   "cell_type": "markdown",
   "metadata": {},
   "source": [
    "# 3"
   ]
  },
  {
   "cell_type": "markdown",
   "metadata": {},
   "source": [
    "#### USPS data"
   ]
  },
  {
   "cell_type": "code",
   "execution_count": 43,
   "metadata": {},
   "outputs": [
    {
     "name": "stderr",
     "output_type": "stream",
     "text": [
      "/home/ubuntu/.local/lib/python3.6/site-packages/sklearn/svm/base.py:196: FutureWarning: The default value of gamma will change from 'auto' to 'scale' in version 0.22 to account better for unscaled features. Set gamma explicitly to 'auto' or 'scale' to avoid this warning.\n",
      "  \"avoid this warning.\", FutureWarning)\n",
      "/home/ubuntu/.local/lib/python3.6/site-packages/sklearn/model_selection/_split.py:2053: FutureWarning: You should specify a value for 'cv' instead of relying on the default value. The default value will change from 3 to 5 in version 0.22.\n",
      "  warnings.warn(CV_WARNING, FutureWarning)\n",
      "/home/ubuntu/.local/lib/python3.6/site-packages/sklearn/svm/base.py:196: FutureWarning: The default value of gamma will change from 'auto' to 'scale' in version 0.22 to account better for unscaled features. Set gamma explicitly to 'auto' or 'scale' to avoid this warning.\n",
      "  \"avoid this warning.\", FutureWarning)\n",
      "/home/ubuntu/.local/lib/python3.6/site-packages/sklearn/svm/base.py:196: FutureWarning: The default value of gamma will change from 'auto' to 'scale' in version 0.22 to account better for unscaled features. Set gamma explicitly to 'auto' or 'scale' to avoid this warning.\n",
      "  \"avoid this warning.\", FutureWarning)\n",
      "/home/ubuntu/.local/lib/python3.6/site-packages/sklearn/svm/base.py:196: FutureWarning: The default value of gamma will change from 'auto' to 'scale' in version 0.22 to account better for unscaled features. Set gamma explicitly to 'auto' or 'scale' to avoid this warning.\n",
      "  \"avoid this warning.\", FutureWarning)\n"
     ]
    },
    {
     "name": "stdout",
     "output_type": "stream",
     "text": [
      "0.964723864260248\n"
     ]
    }
   ],
   "source": [
    "svm1 = SVC()\n",
    "svm1.fit(X_train, y_train)\n",
    "scores = cross_val_score(svm1, X_train, y_train)\n",
    "score = np.mean(scores)\n",
    "print(score)"
   ]
  },
  {
   "cell_type": "markdown",
   "metadata": {},
   "source": [
    "#### Wine data"
   ]
  },
  {
   "cell_type": "code",
   "execution_count": 44,
   "metadata": {},
   "outputs": [
    {
     "name": "stdout",
     "output_type": "stream",
     "text": [
      "0.4442721791559001\n"
     ]
    },
    {
     "name": "stderr",
     "output_type": "stream",
     "text": [
      "/home/ubuntu/.local/lib/python3.6/site-packages/sklearn/svm/base.py:196: FutureWarning: The default value of gamma will change from 'auto' to 'scale' in version 0.22 to account better for unscaled features. Set gamma explicitly to 'auto' or 'scale' to avoid this warning.\n",
      "  \"avoid this warning.\", FutureWarning)\n",
      "/home/ubuntu/.local/lib/python3.6/site-packages/sklearn/model_selection/_split.py:2053: FutureWarning: You should specify a value for 'cv' instead of relying on the default value. The default value will change from 3 to 5 in version 0.22.\n",
      "  warnings.warn(CV_WARNING, FutureWarning)\n",
      "/home/ubuntu/.local/lib/python3.6/site-packages/sklearn/svm/base.py:196: FutureWarning: The default value of gamma will change from 'auto' to 'scale' in version 0.22 to account better for unscaled features. Set gamma explicitly to 'auto' or 'scale' to avoid this warning.\n",
      "  \"avoid this warning.\", FutureWarning)\n",
      "/home/ubuntu/.local/lib/python3.6/site-packages/sklearn/svm/base.py:196: FutureWarning: The default value of gamma will change from 'auto' to 'scale' in version 0.22 to account better for unscaled features. Set gamma explicitly to 'auto' or 'scale' to avoid this warning.\n",
      "  \"avoid this warning.\", FutureWarning)\n",
      "/home/ubuntu/.local/lib/python3.6/site-packages/sklearn/svm/base.py:196: FutureWarning: The default value of gamma will change from 'auto' to 'scale' in version 0.22 to account better for unscaled features. Set gamma explicitly to 'auto' or 'scale' to avoid this warning.\n",
      "  \"avoid this warning.\", FutureWarning)\n"
     ]
    }
   ],
   "source": [
    "svm2 = SVC()\n",
    "svm2.fit(X_train_w, y_train_w)\n",
    "scores = cross_val_score(svm2, X_train_w, y_train_w)\n",
    "score = np.mean(scores)\n",
    "print(score)"
   ]
  },
  {
   "cell_type": "markdown",
   "metadata": {},
   "source": [
    "# 4"
   ]
  },
  {
   "cell_type": "markdown",
   "metadata": {},
   "source": [
    "#### USPS data"
   ]
  },
  {
   "cell_type": "code",
   "execution_count": 45,
   "metadata": {},
   "outputs": [
    {
     "data": {
      "text/plain": [
       "0.9694623655913979"
      ]
     },
     "execution_count": 45,
     "metadata": {},
     "output_type": "execute_result"
    }
   ],
   "source": [
    "svm1.score(X_test, y_test)"
   ]
  },
  {
   "cell_type": "markdown",
   "metadata": {},
   "source": [
    "#### Wine data"
   ]
  },
  {
   "cell_type": "code",
   "execution_count": 46,
   "metadata": {},
   "outputs": [
    {
     "data": {
      "text/plain": [
       "0.4666666666666667"
      ]
     },
     "execution_count": 46,
     "metadata": {},
     "output_type": "execute_result"
    }
   ],
   "source": [
    "svm2.score(X_test_w, y_test_w)"
   ]
  },
  {
   "cell_type": "markdown",
   "metadata": {},
   "source": [
    "# 5"
   ]
  },
  {
   "cell_type": "markdown",
   "metadata": {},
   "source": [
    "#### USPS data"
   ]
  },
  {
   "cell_type": "code",
   "execution_count": 47,
   "metadata": {},
   "outputs": [
    {
     "name": "stderr",
     "output_type": "stream",
     "text": [
      "/home/ubuntu/.local/lib/python3.6/site-packages/sklearn/svm/base.py:196: FutureWarning: The default value of gamma will change from 'auto' to 'scale' in version 0.22 to account better for unscaled features. Set gamma explicitly to 'auto' or 'scale' to avoid this warning.\n",
      "  \"avoid this warning.\", FutureWarning)\n"
     ]
    },
    {
     "name": "stdout",
     "output_type": "stream",
     "text": [
      "Best cross-validation accuracy: 0.28438261867202064\n",
      "Test set score: 0.29333333333333333\n",
      "Best parameters: {'svc__C': 10, 'svc__gamma': 1}\n"
     ]
    }
   ],
   "source": [
    "pipe1 = make_pipeline(MinMaxScaler(), SVC())\n",
    "pipe1.fit(X_train, y_train)\n",
    "param_grid = {'svc__C': [1, 10],\n",
    "'svc__gamma': [1, 10]}\n",
    "grid = GridSearchCV(pipe1, param_grid = param_grid, cv=5)\n",
    "grid.fit(X_train, y_train)\n",
    "print(\"Best cross-validation accuracy:\", grid.best_score_)\n",
    "print(\"Test set score:\", grid.score(X_test, y_test))\n",
    "print(\"Best parameters:\", grid.best_params_)"
   ]
  },
  {
   "cell_type": "code",
   "execution_count": 50,
   "metadata": {
    "scrolled": true
   },
   "outputs": [
    {
     "name": "stdout",
     "output_type": "stream",
     "text": [
      "Best cross-validation accuracy: 0.20651082747741287\n",
      "Test set score: 0.2172043010752688\n",
      "Best parameters: {'svc__C': 10, 'svc__gamma': 1}\n"
     ]
    }
   ],
   "source": [
    "pipe2 = make_pipeline(StandardScaler(), SVC())\n",
    "pipe2.fit(X_train, y_train)\n",
    "param_grid = {'svc__C': [1, 10],\n",
    "'svc__gamma': [1, 10]}\n",
    "grid = GridSearchCV(pipe2, param_grid = param_grid, cv=5)\n",
    "grid.fit(X_train, y_train)\n",
    "print(\"Best cross-validation accuracy:\", grid.best_score_)\n",
    "print(\"Test set score:\", grid.score(X_test, y_test))\n",
    "print(\"Best parameters:\", grid.best_params_)"
   ]
  },
  {
   "cell_type": "markdown",
   "metadata": {},
   "source": [
    "Above two grid searches are not great test scores so now I will try a C greater than 10 and also a gamma lower than 1"
   ]
  },
  {
   "cell_type": "code",
   "execution_count": 52,
   "metadata": {},
   "outputs": [
    {
     "name": "stdout",
     "output_type": "stream",
     "text": [
      "Best cross-validation accuracy: 0.9330273913667001\n",
      "Test set score: 0.9273118279569893\n",
      "Best parameters: {'svc__C': 10, 'svc__gamma': 0.01}\n"
     ]
    }
   ],
   "source": [
    "pipe2 = make_pipeline(StandardScaler(), SVC())\n",
    "pipe2.fit(X_train, y_train)\n",
    "param_grid = {'svc__C': [10, 100],\n",
    "'svc__gamma': [0.01, 1]}\n",
    "grid = GridSearchCV(pipe2, param_grid = param_grid, cv=5)\n",
    "grid.fit(X_train, y_train)\n",
    "print(\"Best cross-validation accuracy:\", grid.best_score_)\n",
    "print(\"Test set score:\", grid.score(X_test, y_test))\n",
    "print(\"Best parameters:\", grid.best_params_)"
   ]
  },
  {
   "cell_type": "markdown",
   "metadata": {},
   "source": [
    "#### Wine data"
   ]
  },
  {
   "cell_type": "code",
   "execution_count": 51,
   "metadata": {},
   "outputs": [
    {
     "name": "stdout",
     "output_type": "stream",
     "text": [
      "Best cross-validation accuracy: 0.9924812030075187\n",
      "Test set score: 0.9777777777777777\n",
      "Best parameters: {'svc__C': 10, 'svc__gamma': 1}\n"
     ]
    },
    {
     "name": "stderr",
     "output_type": "stream",
     "text": [
      "/home/ubuntu/.local/lib/python3.6/site-packages/sklearn/svm/base.py:196: FutureWarning: The default value of gamma will change from 'auto' to 'scale' in version 0.22 to account better for unscaled features. Set gamma explicitly to 'auto' or 'scale' to avoid this warning.\n",
      "  \"avoid this warning.\", FutureWarning)\n",
      "/home/ubuntu/.local/lib/python3.6/site-packages/sklearn/model_selection/_search.py:841: DeprecationWarning: The default of the `iid` parameter will change from True to False in version 0.22 and will be removed in 0.24. This will change numeric results when test-set sizes are unequal.\n",
      "  DeprecationWarning)\n"
     ]
    }
   ],
   "source": [
    "pipe3 = make_pipeline(MinMaxScaler(), SVC())\n",
    "pipe3.fit(X_train_w, y_train_w)\n",
    "param_grid = {'svc__C': [1, 10],\n",
    "'svc__gamma': [1, 10]}\n",
    "grid = GridSearchCV(pipe3, param_grid = param_grid, cv=5)\n",
    "grid.fit(X_train_w, y_train_w)\n",
    "print(\"Best cross-validation accuracy:\", grid.best_score_)\n",
    "print(\"Test set score:\", grid.score(X_test_w, y_test_w))\n",
    "print(\"Best parameters:\", grid.best_params_)"
   ]
  },
  {
   "cell_type": "code",
   "execution_count": 27,
   "metadata": {},
   "outputs": [
    {
     "name": "stdout",
     "output_type": "stream",
     "text": [
      "Best cross-validation accuracy: 0.6466165413533834\n",
      "Test set score: 0.7111111111111111\n",
      "Best parameters: {'svc__C': 10, 'svc__gamma': 1}\n"
     ]
    },
    {
     "name": "stderr",
     "output_type": "stream",
     "text": [
      "/home/ubuntu/.local/lib/python3.6/site-packages/sklearn/model_selection/_search.py:841: DeprecationWarning: The default of the `iid` parameter will change from True to False in version 0.22 and will be removed in 0.24. This will change numeric results when test-set sizes are unequal.\n",
      "  DeprecationWarning)\n"
     ]
    }
   ],
   "source": [
    "pipe4 = make_pipeline(StandardScaler(), SVC())\n",
    "pipe4.fit(X_train_w, y_train_w)\n",
    "param_grid = {'svc__C': [1, 10],\n",
    "'svc__gamma': [1, 10]}\n",
    "grid = GridSearchCV(pipe4, param_grid = param_grid, cv=5)\n",
    "grid.fit(X_train_w, y_train_w)\n",
    "print(\"Best cross-validation accuracy:\", grid.best_score_)\n",
    "print(\"Test set score:\", grid.score(X_test_w, y_test_w))\n",
    "print(\"Best parameters:\", grid.best_params_)"
   ]
  },
  {
   "cell_type": "markdown",
   "metadata": {},
   "source": [
    "# 6"
   ]
  },
  {
   "cell_type": "markdown",
   "metadata": {},
   "source": [
    "#### USPS data"
   ]
  },
  {
   "cell_type": "code",
   "execution_count": 31,
   "metadata": {},
   "outputs": [
    {
     "data": {
      "text/plain": [
       "0.7673118279569893"
      ]
     },
     "execution_count": 31,
     "metadata": {},
     "output_type": "execute_result"
    }
   ],
   "source": [
    "pipe2 = make_pipeline(RobustScaler(), SVC(gamma=0.01, C=100))\n",
    "pipe2.fit(X_train, y_train)\n",
    "pipe2.score(X_test, y_test)"
   ]
  },
  {
   "cell_type": "markdown",
   "metadata": {},
   "source": [
    "#### Wine data"
   ]
  },
  {
   "cell_type": "code",
   "execution_count": 53,
   "metadata": {},
   "outputs": [
    {
     "data": {
      "text/plain": [
       "0.9777777777777777"
      ]
     },
     "execution_count": 53,
     "metadata": {},
     "output_type": "execute_result"
    }
   ],
   "source": [
    "pipe3 = make_pipeline(MinMaxScaler(), SVC(gamma=1, C=10))\n",
    "pipe3.fit(X_train_w, y_train_w)\n",
    "pipe3.score(X_test_w, y_test_w)"
   ]
  },
  {
   "cell_type": "markdown",
   "metadata": {},
   "source": [
    "# 7"
   ]
  },
  {
   "cell_type": "markdown",
   "metadata": {},
   "source": [
    "### Understanding of cross conformal predictor as defined in notes\n",
    "\n",
    "* each fold is the calibration set\n",
    "* fit the pipe to the remaining folds (i.e. not the fold in question) which act as the \"training set proper\"\n",
    "* use decision_function to return conformity scores for the range of postulated labels\n",
    "\n",
    "Calculating p_values for each postulated label\n",
    "* subtract 1 from each rank of labels for that sample (in that fold)\n",
    "* sum the result for each fold\n",
    "* add 1 to that and divide by size of training set size (plus 1)\n"
   ]
  },
  {
   "cell_type": "code",
   "execution_count": 5,
   "metadata": {},
   "outputs": [],
   "source": [
    "kf = KFold(n_splits=5, shuffle=True, random_state=0)"
   ]
  },
  {
   "cell_type": "markdown",
   "metadata": {},
   "source": [
    "## Cross Conformal Predictor for wine"
   ]
  },
  {
   "cell_type": "code",
   "execution_count": 226,
   "metadata": {},
   "outputs": [
    {
     "name": "stdout",
     "output_type": "stream",
     "text": [
      "average false p_value 0.029825870646766166\n"
     ]
    }
   ],
   "source": [
    "'''\n",
    "all_folds is a 3d array containing \n",
    "ranks for all labels for all samples across all folds\n",
    "e.g. [0][0][0] := fold 1, label 1, test sample 1\n",
    "'''\n",
    "all_folds = []\n",
    "for rest_index, fold_index in kf.split(X_train_w):\n",
    "    test_set_rank = []\n",
    "    X_rest, X_fold = X_train_w[rest_index], X_train_w[fold_index]\n",
    "    y_rest, y_fold = y_train_w[rest_index], y_train_w[fold_index]\n",
    "    pipe3.fit(X_rest,y_rest)\n",
    "    calibration_set = pipe3.decision_function(X_fold)\n",
    "    calib_len = len(calibration_set) #27\n",
    "    labels_len = len(calibration_set[0])\n",
    "    test_set = pipe3.decision_function(X_test_w)\n",
    "    test_len = len(test_set) #45\n",
    "    #print(calib_len)\n",
    "    #print('labels len',labels_len)\n",
    "    #print(test_set[0:8])\n",
    "    #print(calibration_set[0:6])\n",
    "    for i in range(labels_len): #cycle through each label\n",
    "        rank_for_label = [] #list of test set label rankings in calibration set for this fold\n",
    "        #Next label\n",
    "        for j in range(test_len):\n",
    "            count = 0\n",
    "            #conformity score for postulated label: label_score\n",
    "            label_score = test_set[j][i]\n",
    "            for x in range(calib_len):\n",
    "                if (label_score > calibration_set[x][i]):\n",
    "                    count = count + 1\n",
    "            rank_for_label.append(count)\n",
    "        test_set_rank.append(rank_for_label)\n",
    "    all_folds.append(test_set_rank)\n",
    "#print(all_folds)\n",
    "\n",
    "#calculate p-values (and average false p-values)\n",
    "p_values_list = [] #2d array. A list, containing a list of p_values for each label of the test sample\n",
    "average_false = []\n",
    "#counter = 0\n",
    "for x in range(len(X_test_w)):\n",
    "    temp_pval = [] #pvalues for each label\n",
    "    fold_index = 0\n",
    "    for i in range(len(all_folds[fold_index])): #for length of labels\n",
    "        to_sum = [] #sum ranks across all folds\n",
    "        for j in range(5): #loop across number of folds\n",
    "            fold_index = j;\n",
    "            to_sum.append(all_folds[j][i][x])\n",
    "        summed_value = sum(to_sum) - 5 #subtract 1 for each rank in each fold\n",
    "        p_value = (summed_value + 1)/ (len(X_train_w)+1)\n",
    "        temp_pval.append(p_value)\n",
    "    p_values_list.append(temp_pval)\n",
    "    z = y_test_w[x] #get true label from test set\n",
    "    false_p = sum(temp_pval) - temp_pval[z] #sum all p values and remove p_value of the true label\n",
    "    num = false_p/(len(temp_pval) - 1)\n",
    "    average_false.append(num)\n",
    "#print(p_values_list)\n",
    "total_av_false = sum(average_false)/(len(X_test_w))\n",
    "total_av_false = total_av_false / 10\n",
    "print(\"average false p_value\", total_av_false)\n",
    "\n",
    "\n",
    "\n",
    "\n",
    "    "
   ]
  },
  {
   "cell_type": "markdown",
   "metadata": {},
   "source": [
    "### Calibration Curve"
   ]
  },
  {
   "cell_type": "code",
   "execution_count": 227,
   "metadata": {},
   "outputs": [
    {
     "data": {
      "text/plain": [
       "[<matplotlib.lines.Line2D at 0x7f3551a76f98>]"
      ]
     },
     "execution_count": 227,
     "metadata": {},
     "output_type": "execute_result"
    },
    {
     "data": {
      "image/png": "[encoded data removed]",
      "text/plain": [
       "<Figure size 432x288 with 1 Axes>"
      ]
     },
     "metadata": {},
     "output_type": "display_data"
    }
   ],
   "source": [
    "%matplotlib inline\n",
    "n_test = X_test_w.shape[0]\n",
    "eps = np.zeros(100) #significance levels\n",
    "err = np.zeros(100) # the corresponding error rates\n",
    "for k in range(100):\n",
    "    eps[k] = k/100 # considering eps = k%\n",
    "    err[k] = 0 # initializing the error rate\n",
    "    for j in range(n_test):\n",
    "        for i in range(len(p_values_list[j])):\n",
    "            if (p_values_list[j][i] <= eps[k]): # error check\n",
    "                err[k] = err[k] + 1 # count this error\n",
    "    err[k] = (err[k] / n_test)/3 # number of errors -> error rate (calculate percentage across all labels)\n",
    "plt.plot(eps,err)"
   ]
  },
  {
   "cell_type": "markdown",
   "metadata": {},
   "source": [
    "### False P-values\n",
    "The average false p-value: the average of the p-values for all\n",
    "postulated labels in the test set except for the true labels.\n",
    "\n",
    "I calculated this above (for time efficiency). The p_values are summed up for each label, the p_value of the true label is then subtracted. \n",
    "#### The result is 0.29"
   ]
  },
  {
   "cell_type": "code",
   "execution_count": null,
   "metadata": {},
   "outputs": [],
   "source": []
  },
  {
   "cell_type": "markdown",
   "metadata": {},
   "source": [
    "scrap"
   ]
  },
  {
   "cell_type": "code",
   "execution_count": null,
   "metadata": {},
   "outputs": [],
   "source": [
    "#calculate predicted label\n",
    "prediction = []\n",
    "for i in range(len(p_values_list)):\n",
    "    pt_prediction = -math.inf\n",
    "    index = -math.inf\n",
    "    for j in range(len(p_values_list[i])):\n",
    "        if (pt_prediction < p_values_list[i][j]):\n",
    "            pt_prediction = p_values_list[i][j]\n",
    "            index = j\n",
    "    prediction.append(index)\n",
    "#print(prediction)"
   ]
  },
  {
   "cell_type": "code",
   "execution_count": null,
   "metadata": {},
   "outputs": [],
   "source": []
  },
  {
   "cell_type": "markdown",
   "metadata": {},
   "source": [
    "## Cross Conformal Predictor for USPS "
   ]
  },
  {
   "cell_type": "code",
   "execution_count": 226,
   "metadata": {},
   "outputs": [
    {
     "name": "stdout",
     "output_type": "stream",
     "text": [
      "average false p_value 0.029825870646766166\n"
     ]
    }
   ],
   "source": [
    "'''\n",
    "like for the wine data set, all_folds is a 3d array containing \n",
    "ranks for all labels for all samples across all folds\n",
    "e.g. [0][0][0] := fold 1, label 1, test sample 1\n",
    "'''\n",
    "all_folds = []\n",
    "for rest_index, fold_index in kf.split(X_train):\n",
    "    test_set_rank = []\n",
    "    X_rest, X_fold = X_train[rest_index], X_train[fold_index]\n",
    "    y_rest, y_fold = y_train[rest_index], y_train[fold_index]\n",
    "    pipe3.fit(X_rest,y_rest)\n",
    "    calibration_set = pipe3.decision_function(X_fold)\n",
    "    calib_len = len(calibration_set) #27\n",
    "    labels_len = len(calibration_set[0])\n",
    "    test_set = pipe3.decision_function(X_test)\n",
    "    test_len = len(test_set) #45\n",
    "    #print(calib_len)\n",
    "    #print('labels len',labels_len)\n",
    "    #print(test_set[0:8])\n",
    "    #print(calibration_set[0:6])\n",
    "    for i in range(labels_len): #cycle through each label\n",
    "        rank_for_label = [] #list of test set label rankings in calibration set for this fold\n",
    "        #Next label\n",
    "        for j in range(test_len):\n",
    "            count = 0\n",
    "            #conformity score for postulated label: label_score\n",
    "            label_score = test_set[j][i]\n",
    "            for x in range(calib_len):\n",
    "                if (label_score > calibration_set[x][i]):\n",
    "                    count = count + 1\n",
    "            rank_for_label.append(count)\n",
    "        test_set_rank.append(rank_for_label)\n",
    "    all_folds.append(test_set_rank)\n",
    "#print(all_folds)\n",
    "\n",
    "#calculate p-values (and average false p-values)\n",
    "p_values_list = [] #2d array. A list, containing a list of p_values for each label of the test sample\n",
    "average_false = []\n",
    "#counter = 0\n",
    "for x in range(len(X_test)):\n",
    "    temp_pval = [] #pvalues for each label\n",
    "    fold_index = 0\n",
    "    for i in range(len(all_folds[fold_index])): #for length of labels\n",
    "        to_sum = [] #sum ranks across all folds\n",
    "        for j in range(5): #loop across number of folds\n",
    "            fold_index = j;\n",
    "            to_sum.append(all_folds[j][i][x])\n",
    "        summed_value = sum(to_sum) - 5 #subtract 1 for each rank in each fold\n",
    "        p_value = (summed_value + 1)/ (len(X_train)+1)\n",
    "        temp_pval.append(p_value)\n",
    "    p_values_list.append(temp_pval)\n",
    "    z = y_test_w[x] #get true label from test set\n",
    "    false_p = sum(temp_pval) - temp_pval[z] #sum all p values and remove p_value of the true label\n",
    "    num = false_p/(len(temp_pval) - 1)\n",
    "    average_false.append(num)\n",
    "#print(p_values_list)\n",
    "total_av_false = sum(average_false)/(len(X_test))\n",
    "#total_av_false = total_av_false / 10\n",
    "print(\"average false p_value\", total_av_false)\n",
    "\n",
    "\n",
    "\n",
    "\n",
    "    "
   ]
  },
  {
   "cell_type": "markdown",
   "metadata": {},
   "source": [
    "### Calibration Curve"
   ]
  },
  {
   "cell_type": "code",
   "execution_count": 227,
   "metadata": {},
   "outputs": [
    {
     "data": {
      "text/plain": [
       "[<matplotlib.lines.Line2D at 0x7f3551a76f98>]"
      ]
     },
     "execution_count": 227,
     "metadata": {},
     "output_type": "execute_result"
    },
    {
     "data": {
      "image/png": "[encoded data removed]",
      "text/plain": [
       "<Figure size 432x288 with 1 Axes>"
      ]
     },
     "metadata": {},
     "output_type": "display_data"
    }
   ],
   "source": [
    "%matplotlib inline\n",
    "n_test = X_test.shape[0]\n",
    "eps = np.zeros(100) #significance levels\n",
    "err = np.zeros(100) # the corresponding error rates\n",
    "for k in range(100):\n",
    "    eps[k] = k/100 # considering eps = k%\n",
    "    err[k] = 0 # initializing the error rate\n",
    "    for j in range(n_test):\n",
    "        for i in range(len(p_values_list[j])):\n",
    "            if (p_values_list[j][i] <= eps[k]): # error check\n",
    "                err[k] = err[k] + 1 # count this error\n",
    "    err[k] = (err[k] / n_test)/3 # number of errors -> error rate (calculate percentage across all labels)\n",
    "plt.plot(eps,err)"
   ]
  },
  {
   "cell_type": "markdown",
   "metadata": {},
   "source": [
    "### False P-values\n",
    "The average false p-value: the average of the p-values for all\n",
    "postulated labels in the test set except for the true labels.\n",
    "\n",
    "Again, like for the wine data set, I calculated this above (for time efficiency). The p_values are summed up for each label, the p_value of the true label is then subtracted. The result is"
   ]
  }
 ],
 "metadata": {
  "kernelspec": {
   "display_name": "Python 3",
   "language": "python",
   "name": "python3"
  },
  "language_info": {
   "codemirror_mode": {
    "name": "ipython",
    "version": 3
   },
   "file_extension": ".py",
   "mimetype": "text/x-python",
   "name": "python",
   "nbconvert_exporter": "python",
   "pygments_lexer": "ipython3",
   "version": "3.6.7"
  }
 },
 "nbformat": 4,
 "nbformat_minor": 2
}
