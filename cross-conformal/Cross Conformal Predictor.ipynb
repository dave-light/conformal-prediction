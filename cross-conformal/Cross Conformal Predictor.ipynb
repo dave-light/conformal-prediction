{
 "cells": [
  {
   "cell_type": "markdown",
   "metadata": {},
   "source": [
    "# Cross Conformal Predictor"
   ]
  },
  {
   "cell_type": "markdown",
   "metadata": {},
   "source": [
    "# 1"
   ]
  },
  {
   "cell_type": "code",
   "execution_count": 35,
   "metadata": {},
   "outputs": [],
   "source": [
    "from sklearn.datasets import load_wine\n",
    "from sklearn.model_selection import train_test_split\n",
    "import numpy as np\n",
    "import math\n",
    "import matplotlib.pyplot as plt\n",
    "from sklearn.model_selection import cross_val_score\n",
    "from sklearn.svm import SVC\n",
    "from sklearn.pipeline import make_pipeline\n",
    "from sklearn.preprocessing import MinMaxScaler\n",
    "from sklearn.preprocessing import Normalizer\n",
    "from sklearn.preprocessing import StandardScaler\n",
    "from sklearn.preprocessing import RobustScaler\n",
    "from sklearn.model_selection import GridSearchCV\n",
    "from sklearn.model_selection import KFold"
   ]
  },
  {
   "cell_type": "markdown",
   "metadata": {},
   "source": [
    "np.concat"
   ]
  },
  {
   "cell_type": "markdown",
   "metadata": {},
   "source": [
    "#### USPS data"
   ]
  },
  {
   "cell_type": "code",
   "execution_count": 36,
   "metadata": {},
   "outputs": [],
   "source": [
    "X = np.genfromtxt(\"zip.data\", delimiter=\" \",\n",
    "usecols=np.arange(1, 257))\n",
    "\n",
    "y = np.genfromtxt(\"zip.data\", delimiter=\" \", \n",
    "usecols=0)"
   ]
  },
  {
   "cell_type": "code",
   "execution_count": 37,
   "metadata": {},
   "outputs": [
    {
     "data": {
      "text/plain": [
       "(9298,)"
      ]
     },
     "execution_count": 37,
     "metadata": {},
     "output_type": "execute_result"
    }
   ],
   "source": [
    "y.shape"
   ]
  },
  {
   "cell_type": "code",
   "execution_count": 38,
   "metadata": {},
   "outputs": [
    {
     "data": {
      "text/plain": [
       "256"
      ]
     },
     "execution_count": 38,
     "metadata": {},
     "output_type": "execute_result"
    }
   ],
   "source": [
    "X.shape[1]"
   ]
  },
  {
   "cell_type": "code",
   "execution_count": 39,
   "metadata": {},
   "outputs": [
    {
     "name": "stdout",
     "output_type": "stream",
     "text": [
      "[-1.    -1.    -1.    -1.    -1.    -1.    -1.    -1.    -1.    -1.\n",
      " -1.    -1.    -1.    -1.    -1.    -1.    -1.    -1.    -1.    -1.\n",
      " -1.    -0.783 -0.973 -1.    -1.    -1.    -1.    -1.    -1.    -1.\n",
      " -1.    -1.    -1.    -1.    -1.    -1.    -0.364  0.789 -0.371 -1.\n",
      " -1.    -1.    -1.    -1.    -1.    -1.    -1.    -1.    -1.    -1.\n",
      " -1.    -0.467  0.963  0.609 -0.986 -1.    -1.    -1.    -1.    -1.\n",
      " -1.    -1.    -1.    -1.    -1.    -1.    -0.875  0.605  0.96  -0.351\n",
      " -1.    -1.    -1.    -1.    -1.    -1.    -1.    -1.    -1.    -1.\n",
      " -1.    -1.     0.05   1.     0.096 -1.    -1.    -1.    -1.    -1.\n",
      " -1.    -1.    -1.    -1.    -1.    -1.    -1.    -0.582  0.97   0.532\n",
      " -0.922 -1.    -1.    -1.    -1.    -1.    -1.    -0.602  0.307  0.718\n",
      "  0.718 -0.373 -0.998  0.723  1.    -0.431 -1.    -1.    -1.    -1.\n",
      " -1.    -0.817 -0.136  0.808  1.     1.     1.     0.697 -0.67   0.965\n",
      "  0.659 -1.    -1.    -1.    -1.    -1.    -0.512  0.738  1.     0.839\n",
      " -0.336 -0.977  0.433  0.878  0.161  1.    -0.102 -1.    -1.    -1.\n",
      " -1.    -0.643  0.87   0.97   0.264 -0.971 -1.    -0.399  1.     0.117\n",
      "  0.835  0.968 -0.701 -1.    -1.    -1.    -1.     0.198  1.     0.052\n",
      " -1.    -1.    -0.291  0.876  0.79  -0.819  0.392  0.962 -0.461 -1.\n",
      " -1.    -1.    -0.948  0.82   1.    -0.168 -0.475  0.28   0.968  0.88\n",
      " -0.613 -1.    -0.551  0.854  0.98   0.498  0.324  0.324  0.328  0.998\n",
      "  1.     0.97   0.995  0.976  0.25  -0.642 -1.    -1.    -1.    -0.64\n",
      "  0.661  0.971  1.     1.     1.     0.95   0.774  0.774  0.302 -0.522\n",
      " -1.    -1.    -1.    -1.    -1.    -1.    -1.    -0.663 -0.606 -0.606\n",
      " -0.606 -0.688 -1.    -1.    -1.    -1.    -1.    -1.    -1.    -1.\n",
      " -1.    -1.    -1.    -1.    -1.    -1.    -1.    -1.    -1.    -1.\n",
      " -1.    -1.    -1.    -1.    -1.    -1.   ]\n"
     ]
    }
   ],
   "source": [
    "print(X[1])"
   ]
  },
  {
   "cell_type": "markdown",
   "metadata": {},
   "source": [
    "#### Wine data"
   ]
  },
  {
   "cell_type": "code",
   "execution_count": 40,
   "metadata": {},
   "outputs": [],
   "source": [
    "wine = load_wine()"
   ]
  },
  {
   "cell_type": "markdown",
   "metadata": {},
   "source": [
    "# 2"
   ]
  },
  {
   "cell_type": "markdown",
   "metadata": {},
   "source": [
    "#### USPS data"
   ]
  },
  {
   "cell_type": "code",
   "execution_count": 41,
   "metadata": {},
   "outputs": [
    {
     "data": {
      "text/plain": [
       "(2325, 256)"
      ]
     },
     "execution_count": 41,
     "metadata": {},
     "output_type": "execute_result"
    }
   ],
   "source": [
    "X_train, X_test, y_train, y_test = train_test_split(X, y, random_state=1201)\n",
    "X_test.shape"
   ]
  },
  {
   "cell_type": "markdown",
   "metadata": {},
   "source": [
    "#### Wine data"
   ]
  },
  {
   "cell_type": "code",
   "execution_count": 42,
   "metadata": {},
   "outputs": [
    {
     "data": {
      "text/plain": [
       "(133,)"
      ]
     },
     "execution_count": 42,
     "metadata": {},
     "output_type": "execute_result"
    }
   ],
   "source": [
    "X_train_w, X_test_w, y_train_w, y_test_w = train_test_split(wine.data, wine.target, random_state=1201)\n",
    "y_train_w.shape"
   ]
  },
  {
   "cell_type": "markdown",
   "metadata": {},
   "source": [
    "# 3"
   ]
  },
  {
   "cell_type": "markdown",
   "metadata": {},
   "source": [
    "#### USPS data"
   ]
  },
  {
   "cell_type": "code",
   "execution_count": 43,
   "metadata": {},
   "outputs": [
    {
     "name": "stderr",
     "output_type": "stream",
     "text": [
      "/home/ubuntu/.local/lib/python3.6/site-packages/sklearn/svm/base.py:196: FutureWarning: The default value of gamma will change from 'auto' to 'scale' in version 0.22 to account better for unscaled features. Set gamma explicitly to 'auto' or 'scale' to avoid this warning.\n",
      "  \"avoid this warning.\", FutureWarning)\n",
      "/home/ubuntu/.local/lib/python3.6/site-packages/sklearn/model_selection/_split.py:2053: FutureWarning: You should specify a value for 'cv' instead of relying on the default value. The default value will change from 3 to 5 in version 0.22.\n",
      "  warnings.warn(CV_WARNING, FutureWarning)\n",
      "/home/ubuntu/.local/lib/python3.6/site-packages/sklearn/svm/base.py:196: FutureWarning: The default value of gamma will change from 'auto' to 'scale' in version 0.22 to account better for unscaled features. Set gamma explicitly to 'auto' or 'scale' to avoid this warning.\n",
      "  \"avoid this warning.\", FutureWarning)\n",
      "/home/ubuntu/.local/lib/python3.6/site-packages/sklearn/svm/base.py:196: FutureWarning: The default value of gamma will change from 'auto' to 'scale' in version 0.22 to account better for unscaled features. Set gamma explicitly to 'auto' or 'scale' to avoid this warning.\n",
      "  \"avoid this warning.\", FutureWarning)\n",
      "/home/ubuntu/.local/lib/python3.6/site-packages/sklearn/svm/base.py:196: FutureWarning: The default value of gamma will change from 'auto' to 'scale' in version 0.22 to account better for unscaled features. Set gamma explicitly to 'auto' or 'scale' to avoid this warning.\n",
      "  \"avoid this warning.\", FutureWarning)\n"
     ]
    },
    {
     "name": "stdout",
     "output_type": "stream",
     "text": [
      "0.964723864260248\n"
     ]
    }
   ],
   "source": [
    "svm1 = SVC()\n",
    "svm1.fit(X_train, y_train)\n",
    "scores = cross_val_score(svm1, X_train, y_train)\n",
    "score = np.mean(scores)\n",
    "print(score)"
   ]
  },
  {
   "cell_type": "markdown",
   "metadata": {},
   "source": [
    "#### Wine data"
   ]
  },
  {
   "cell_type": "code",
   "execution_count": 44,
   "metadata": {},
   "outputs": [
    {
     "name": "stdout",
     "output_type": "stream",
     "text": [
      "0.4442721791559001\n"
     ]
    },
    {
     "name": "stderr",
     "output_type": "stream",
     "text": [
      "/home/ubuntu/.local/lib/python3.6/site-packages/sklearn/svm/base.py:196: FutureWarning: The default value of gamma will change from 'auto' to 'scale' in version 0.22 to account better for unscaled features. Set gamma explicitly to 'auto' or 'scale' to avoid this warning.\n",
      "  \"avoid this warning.\", FutureWarning)\n",
      "/home/ubuntu/.local/lib/python3.6/site-packages/sklearn/model_selection/_split.py:2053: FutureWarning: You should specify a value for 'cv' instead of relying on the default value. The default value will change from 3 to 5 in version 0.22.\n",
      "  warnings.warn(CV_WARNING, FutureWarning)\n",
      "/home/ubuntu/.local/lib/python3.6/site-packages/sklearn/svm/base.py:196: FutureWarning: The default value of gamma will change from 'auto' to 'scale' in version 0.22 to account better for unscaled features. Set gamma explicitly to 'auto' or 'scale' to avoid this warning.\n",
      "  \"avoid this warning.\", FutureWarning)\n",
      "/home/ubuntu/.local/lib/python3.6/site-packages/sklearn/svm/base.py:196: FutureWarning: The default value of gamma will change from 'auto' to 'scale' in version 0.22 to account better for unscaled features. Set gamma explicitly to 'auto' or 'scale' to avoid this warning.\n",
      "  \"avoid this warning.\", FutureWarning)\n",
      "/home/ubuntu/.local/lib/python3.6/site-packages/sklearn/svm/base.py:196: FutureWarning: The default value of gamma will change from 'auto' to 'scale' in version 0.22 to account better for unscaled features. Set gamma explicitly to 'auto' or 'scale' to avoid this warning.\n",
      "  \"avoid this warning.\", FutureWarning)\n"
     ]
    }
   ],
   "source": [
    "svm2 = SVC()\n",
    "svm2.fit(X_train_w, y_train_w)\n",
    "scores = cross_val_score(svm2, X_train_w, y_train_w)\n",
    "score = np.mean(scores)\n",
    "print(score)"
   ]
  },
  {
   "cell_type": "markdown",
   "metadata": {},
   "source": [
    "# 4"
   ]
  },
  {
   "cell_type": "markdown",
   "metadata": {},
   "source": [
    "#### USPS data"
   ]
  },
  {
   "cell_type": "code",
   "execution_count": 45,
   "metadata": {},
   "outputs": [
    {
     "data": {
      "text/plain": [
       "0.9694623655913979"
      ]
     },
     "execution_count": 45,
     "metadata": {},
     "output_type": "execute_result"
    }
   ],
   "source": [
    "svm1.score(X_test, y_test)"
   ]
  },
  {
   "cell_type": "markdown",
   "metadata": {},
   "source": [
    "#### Wine data"
   ]
  },
  {
   "cell_type": "code",
   "execution_count": 46,
   "metadata": {},
   "outputs": [
    {
     "data": {
      "text/plain": [
       "0.4666666666666667"
      ]
     },
     "execution_count": 46,
     "metadata": {},
     "output_type": "execute_result"
    }
   ],
   "source": [
    "svm2.score(X_test_w, y_test_w)"
   ]
  },
  {
   "cell_type": "markdown",
   "metadata": {},
   "source": [
    "# 5"
   ]
  },
  {
   "cell_type": "markdown",
   "metadata": {},
   "source": [
    "#### USPS data"
   ]
  },
  {
   "cell_type": "code",
   "execution_count": 47,
   "metadata": {},
   "outputs": [
    {
     "name": "stderr",
     "output_type": "stream",
     "text": [
      "/home/ubuntu/.local/lib/python3.6/site-packages/sklearn/svm/base.py:196: FutureWarning: The default value of gamma will change from 'auto' to 'scale' in version 0.22 to account better for unscaled features. Set gamma explicitly to 'auto' or 'scale' to avoid this warning.\n",
      "  \"avoid this warning.\", FutureWarning)\n"
     ]
    },
    {
     "name": "stdout",
     "output_type": "stream",
     "text": [
      "Best cross-validation accuracy: 0.28438261867202064\n",
      "Test set score: 0.29333333333333333\n",
      "Best parameters: {'svc__C': 10, 'svc__gamma': 1}\n"
     ]
    }
   ],
   "source": [
    "pipe1 = make_pipeline(MinMaxScaler(), SVC())\n",
    "pipe1.fit(X_train, y_train)\n",
    "param_grid = {'svc__C': [1, 10],\n",
    "'svc__gamma': [1, 10]}\n",
    "grid = GridSearchCV(pipe1, param_grid = param_grid, cv=5)\n",
    "grid.fit(X_train, y_train)\n",
    "print(\"Best cross-validation accuracy:\", grid.best_score_)\n",
    "print(\"Test set score:\", grid.score(X_test, y_test))\n",
    "print(\"Best parameters:\", grid.best_params_)"
   ]
  },
  {
   "cell_type": "code",
   "execution_count": 50,
   "metadata": {
    "scrolled": true
   },
   "outputs": [
    {
     "name": "stdout",
     "output_type": "stream",
     "text": [
      "Best cross-validation accuracy: 0.20651082747741287\n",
      "Test set score: 0.2172043010752688\n",
      "Best parameters: {'svc__C': 10, 'svc__gamma': 1}\n"
     ]
    }
   ],
   "source": [
    "pipe2 = make_pipeline(StandardScaler(), SVC())\n",
    "pipe2.fit(X_train, y_train)\n",
    "param_grid = {'svc__C': [1, 10],\n",
    "'svc__gamma': [1, 10]}\n",
    "grid = GridSearchCV(pipe2, param_grid = param_grid, cv=5)\n",
    "grid.fit(X_train, y_train)\n",
    "print(\"Best cross-validation accuracy:\", grid.best_score_)\n",
    "print(\"Test set score:\", grid.score(X_test, y_test))\n",
    "print(\"Best parameters:\", grid.best_params_)"
   ]
  },
  {
   "cell_type": "markdown",
   "metadata": {},
   "source": [
    "Above two grid searches are not great test scores so now I will try a C greater than 10 and also a gamma lower than 1"
   ]
  },
  {
   "cell_type": "code",
   "execution_count": 52,
   "metadata": {},
   "outputs": [
    {
     "name": "stdout",
     "output_type": "stream",
     "text": [
      "Best cross-validation accuracy: 0.9330273913667001\n",
      "Test set score: 0.9273118279569893\n",
      "Best parameters: {'svc__C': 10, 'svc__gamma': 0.01}\n"
     ]
    }
   ],
   "source": [
    "pipe2 = make_pipeline(StandardScaler(), SVC())\n",
    "pipe2.fit(X_train, y_train)\n",
    "param_grid = {'svc__C': [10, 100],\n",
    "'svc__gamma': [0.01, 1]}\n",
    "grid = GridSearchCV(pipe2, param_grid = param_grid, cv=5)\n",
    "grid.fit(X_train, y_train)\n",
    "print(\"Best cross-validation accuracy:\", grid.best_score_)\n",
    "print(\"Test set score:\", grid.score(X_test, y_test))\n",
    "print(\"Best parameters:\", grid.best_params_)"
   ]
  },
  {
   "cell_type": "markdown",
   "metadata": {},
   "source": [
    "#### Wine data"
   ]
  },
  {
   "cell_type": "code",
   "execution_count": 51,
   "metadata": {},
   "outputs": [
    {
     "name": "stdout",
     "output_type": "stream",
     "text": [
      "Best cross-validation accuracy: 0.9924812030075187\n",
      "Test set score: 0.9777777777777777\n",
      "Best parameters: {'svc__C': 10, 'svc__gamma': 1}\n"
     ]
    },
    {
     "name": "stderr",
     "output_type": "stream",
     "text": [
      "/home/ubuntu/.local/lib/python3.6/site-packages/sklearn/svm/base.py:196: FutureWarning: The default value of gamma will change from 'auto' to 'scale' in version 0.22 to account better for unscaled features. Set gamma explicitly to 'auto' or 'scale' to avoid this warning.\n",
      "  \"avoid this warning.\", FutureWarning)\n",
      "/home/ubuntu/.local/lib/python3.6/site-packages/sklearn/model_selection/_search.py:841: DeprecationWarning: The default of the `iid` parameter will change from True to False in version 0.22 and will be removed in 0.24. This will change numeric results when test-set sizes are unequal.\n",
      "  DeprecationWarning)\n"
     ]
    }
   ],
   "source": [
    "pipe3 = make_pipeline(MinMaxScaler(), SVC())\n",
    "pipe3.fit(X_train_w, y_train_w)\n",
    "param_grid = {'svc__C': [1, 10],\n",
    "'svc__gamma': [1, 10]}\n",
    "grid = GridSearchCV(pipe3, param_grid = param_grid, cv=5)\n",
    "grid.fit(X_train_w, y_train_w)\n",
    "print(\"Best cross-validation accuracy:\", grid.best_score_)\n",
    "print(\"Test set score:\", grid.score(X_test_w, y_test_w))\n",
    "print(\"Best parameters:\", grid.best_params_)"
   ]
  },
  {
   "cell_type": "code",
   "execution_count": 27,
   "metadata": {},
   "outputs": [
    {
     "name": "stdout",
     "output_type": "stream",
     "text": [
      "Best cross-validation accuracy: 0.6466165413533834\n",
      "Test set score: 0.7111111111111111\n",
      "Best parameters: {'svc__C': 10, 'svc__gamma': 1}\n"
     ]
    },
    {
     "name": "stderr",
     "output_type": "stream",
     "text": [
      "/home/ubuntu/.local/lib/python3.6/site-packages/sklearn/model_selection/_search.py:841: DeprecationWarning: The default of the `iid` parameter will change from True to False in version 0.22 and will be removed in 0.24. This will change numeric results when test-set sizes are unequal.\n",
      "  DeprecationWarning)\n"
     ]
    }
   ],
   "source": [
    "pipe4 = make_pipeline(StandardScaler(), SVC())\n",
    "pipe4.fit(X_train_w, y_train_w)\n",
    "param_grid = {'svc__C': [1, 10],\n",
    "'svc__gamma': [1, 10]}\n",
    "grid = GridSearchCV(pipe4, param_grid = param_grid, cv=5)\n",
    "grid.fit(X_train_w, y_train_w)\n",
    "print(\"Best cross-validation accuracy:\", grid.best_score_)\n",
    "print(\"Test set score:\", grid.score(X_test_w, y_test_w))\n",
    "print(\"Best parameters:\", grid.best_params_)"
   ]
  },
  {
   "cell_type": "markdown",
   "metadata": {},
   "source": [
    "# 6"
   ]
  },
  {
   "cell_type": "markdown",
   "metadata": {},
   "source": [
    "#### USPS data"
   ]
  },
  {
   "cell_type": "code",
   "execution_count": 31,
   "metadata": {},
   "outputs": [
    {
     "data": {
      "text/plain": [
       "0.7673118279569893"
      ]
     },
     "execution_count": 31,
     "metadata": {},
     "output_type": "execute_result"
    }
   ],
   "source": [
    "pipe2 = make_pipeline(RobustScaler(), SVC(gamma=0.01, C=100))\n",
    "pipe2.fit(X_train, y_train)\n",
    "pipe2.score(X_test, y_test)"
   ]
  },
  {
   "cell_type": "markdown",
   "metadata": {},
   "source": [
    "#### Wine data"
   ]
  },
  {
   "cell_type": "code",
   "execution_count": 53,
   "metadata": {},
   "outputs": [
    {
     "data": {
      "text/plain": [
       "0.9777777777777777"
      ]
     },
     "execution_count": 53,
     "metadata": {},
     "output_type": "execute_result"
    }
   ],
   "source": [
    "pipe3 = make_pipeline(MinMaxScaler(), SVC(gamma=1, C=10))\n",
    "pipe3.fit(X_train_w, y_train_w)\n",
    "pipe3.score(X_test_w, y_test_w)"
   ]
  },
  {
   "cell_type": "markdown",
   "metadata": {},
   "source": [
    "# 7"
   ]
  },
  {
   "cell_type": "code",
   "execution_count": 5,
   "metadata": {},
   "outputs": [],
   "source": [
    "kf = KFold(n_splits=5, shuffle=True, random_state=0)"
   ]
  },
  {
   "cell_type": "markdown",
   "metadata": {},
   "source": [
    "## CCP for wine"
   ]
  },
  {
   "cell_type": "code",
   "execution_count": 127,
   "metadata": {},
   "outputs": [
    {
     "name": "stdout",
     "output_type": "stream",
     "text": [
      "NEW FOLD\n",
      "[[17, 5, 20, 0, 5, 23, 20, 4, 4, 4, 4, 0, 25, 13, 5, 10, 7, 1, 15, 23, 15, 23, 13, 1, 23, 5, 5, 14, 4, 20, 23, 5, 5, 2, 15, 14, 5, 22, 16, 14, 5, 20, 8, 5, 20], [15, 10, 3, 10, 2, 5, 13, 13, 5, 15, 7, 26, 2, 22, 5, 26, 17, 22, 21, 2, 21, 5, 21, 26, 2, 6, 8, 21, 23, 8, 4, 8, 18, 10, 21, 21, 17, 8, 17, 21, 5, 10, 21, 4, 13], [14, 22, 18, 26, 27, 13, 4, 21, 26, 21, 26, 20, 12, 4, 26, 4, 20, 20, 4, 14, 4, 6, 14, 19, 14, 24, 22, 4, 19, 10, 13, 22, 20, 24, 8, 4, 20, 6, 14, 12, 26, 4, 15, 27, 4]]\n",
      "3\n",
      "NEW FOLD\n",
      "[[15, 5, 19, 0, 10, 26, 19, 3, 5, 7, 3, 0, 26, 15, 11, 14, 12, 0, 15, 26, 15, 26, 4, 0, 26, 10, 12, 15, 2, 19, 26, 11, 12, 3, 15, 15, 6, 21, 15, 15, 10, 19, 3, 9, 19], [22, 18, 2, 17, 2, 3, 19, 19, 5, 19, 10, 26, 2, 23, 2, 26, 22, 23, 22, 2, 22, 9, 23, 26, 2, 11, 14, 22, 23, 15, 2, 14, 22, 14, 22, 22, 22, 14, 22, 22, 11, 17, 22, 2, 19], [14, 18, 13, 20, 27, 4, 0, 18, 27, 18, 27, 17, 10, 1, 27, 0, 17, 17, 0, 9, 0, 0, 17, 15, 10, 20, 18, 3, 17, 3, 8, 19, 17, 20, 9, 1, 17, 1, 13, 10, 20, 0, 17, 27, 0]]\n",
      "3\n",
      "NEW FOLD\n",
      "[[13, 8, 19, 4, 8, 21, 19, 5, 5, 7, 5, 8, 25, 13, 7, 12, 11, 7, 13, 23, 13, 22, 11, 8, 23, 8, 9, 13, 12, 20, 22, 8, 9, 8, 13, 13, 7, 21, 13, 13, 9, 20, 11, 8, 20], [23, 16, 6, 15, 3, 7, 15, 17, 4, 17, 6, 25, 3, 26, 3, 27, 19, 25, 25, 3, 25, 8, 25, 25, 4, 8, 8, 25, 26, 6, 5, 6, 24, 14, 25, 26, 25, 8, 23, 25, 3, 8, 26, 3, 14], [16, 20, 16, 21, 27, 7, 1, 18, 27, 18, 27, 16, 7, 2, 27, 10, 16, 16, 2, 12, 3, 3, 16, 16, 10, 22, 20, 16, 13, 11, 11, 25, 16, 20, 12, 4, 16, 4, 16, 7, 26, 9, 16, 27, 1]]\n",
      "3\n",
      "NEW FOLD\n",
      "[[14, 4, 20, 0, 5, 23, 18, 0, 1, 1, 1, 0, 25, 12, 4, 10, 5, 0, 14, 21, 12, 20, 10, 0, 25, 5, 6, 11, 1, 19, 23, 4, 4, 1, 12, 11, 1, 24, 14, 12, 5, 18, 8, 5, 18], [16, 12, 4, 12, 0, 5, 13, 16, 3, 16, 3, 24, 2, 23, 0, 25, 21, 24, 21, 5, 21, 12, 21, 25, 2, 3, 5, 23, 23, 12, 5, 5, 17, 5, 21, 24, 21, 7, 16, 21, 2, 13, 23, 1, 13], [17, 22, 17, 24, 26, 5, 1, 21, 26, 21, 25, 20, 14, 3, 26, 0, 20, 20, 0, 11, 3, 4, 11, 19, 11, 24, 23, 3, 20, 5, 5, 24, 21, 24, 3, 1, 20, 3, 17, 5, 25, 5, 17, 26, 2]]\n",
      "3\n",
      "NEW FOLD\n",
      "[[14, 6, 18, 1, 6, 21, 18, 1, 3, 1, 3, 0, 24, 13, 6, 12, 8, 0, 14, 25, 14, 23, 8, 1, 22, 7, 8, 13, 13, 22, 25, 5, 6, 3, 13, 13, 6, 18, 14, 14, 8, 18, 13, 5, 18], [19, 18, 6, 17, 6, 10, 18, 19, 9, 19, 11, 23, 1, 21, 6, 25, 20, 23, 21, 1, 20, 10, 20, 24, 6, 11, 14, 21, 21, 13, 1, 14, 20, 15, 21, 23, 20, 15, 20, 20, 10, 16, 20, 8, 18], [14, 19, 15, 20, 25, 9, 1, 19, 24, 19, 23, 17, 12, 5, 24, 1, 19, 18, 0, 9, 1, 7, 17, 16, 12, 20, 19, 6, 7, 6, 8, 20, 19, 20, 7, 3, 19, 6, 12, 6, 20, 6, 12, 24, 1]]\n",
      "3\n"
     ]
    }
   ],
   "source": [
    "\n",
    "for rest_index, fold_index in kf.split(X_train_w):\n",
    "    print('NEW FOLD')\n",
    "    test_set_rank = []\n",
    "    X_rest, X_fold = X_train_w[rest_index], X_train_w[fold_index]\n",
    "    y_rest, y_fold = y_train_w[rest_index], y_train_w[fold_index]\n",
    "    pipe3.fit(X_rest,y_rest)\n",
    "    calibration_set = pipe3.decision_function(X_fold)\n",
    "    calib_len = len(calibration_set) #27\n",
    "    labels_len = len(calibration_set[0])\n",
    "    test_set = pipe3.decision_function(X_test_w)\n",
    "    test_len = len(test_set) #45\n",
    "    #print(calib_len)\n",
    "    #print('labels len',labels_len)\n",
    "    #print(test_set[0:8])\n",
    "    #print(calibration_set[0:6])\n",
    "    for i in range(labels_len): #cycle through each label\n",
    "        rank_for_label = [] #list of test set label rankings in calibration set for this fold\n",
    "        #print('NEW LABEL')\n",
    "        for j in range(test_len):\n",
    "            count = 0\n",
    "            #conformity score for postulated label: label_score\n",
    "            label_score = test_set[j][i]\n",
    "            #print('postulated label score', postulated_label)\n",
    "            for x in range(calib_len):\n",
    "                if (label_score > calibration_set[x][i]):\n",
    "                    count = count + 1\n",
    "            rank_for_label.append(count)\n",
    "                #print(test_set[j][i])\n",
    "        test_set_rank.append(rank_for_label)\n",
    "    print(test_set_rank)\n",
    "    print(len(test_set_rank))"
   ]
  },
  {
   "cell_type": "code",
   "execution_count": null,
   "metadata": {},
   "outputs": [],
   "source": [
    "    for i in range(labels_len)\n",
    "    count = 0\n",
    "        for j in range(calib_len)\n",
    "            if (test_set[j][i] < calibration_set[j][i])\n",
    "            count =+ 1\n",
    "            test_set_rank[j][i] = count\n",
    "    print(pipe3.score(X_fold,y_fold))"
   ]
  },
  {
   "cell_type": "code",
   "execution_count": null,
   "metadata": {},
   "outputs": [],
   "source": [
    "pipe3.decision_function(X_test_w)"
   ]
  },
  {
   "cell_type": "markdown",
   "metadata": {},
   "source": [
    "## CCP for USPS "
   ]
  },
  {
   "cell_type": "code",
   "execution_count": null,
   "metadata": {},
   "outputs": [],
   "source": [
    "for rest_index, fold_index in kf.split(X_train):\n",
    "    X_rest, X_fold = X_train[rest_index], X_train[fold_index]\n",
    "    y_rest, y_fold = y_train[rest_index], y_train[fold_index]\n",
    "    pipe2.fit(X_rest,y_rest)\n",
    "    print(pipe2.score(X_fold,y_fold))"
   ]
  }
 ],
 "metadata": {
  "kernelspec": {
   "display_name": "Python 3",
   "language": "python",
   "name": "python3"
  },
  "language_info": {
   "codemirror_mode": {
    "name": "ipython",
    "version": 3
   },
   "file_extension": ".py",
   "mimetype": "text/x-python",
   "name": "python",
   "nbconvert_exporter": "python",
   "pygments_lexer": "ipython3",
   "version": "3.6.7"
  }
 },
 "nbformat": 4,
 "nbformat_minor": 2
}
