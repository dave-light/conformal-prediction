{
 "cells": [
  {
   "cell_type": "markdown",
   "metadata": {},
   "source": [
    "# Cross Conformal Predictor"
   ]
  },
  {
   "cell_type": "markdown",
   "metadata": {},
   "source": [
    "# 1"
   ]
  },
  {
   "cell_type": "code",
   "execution_count": 1,
   "metadata": {},
   "outputs": [],
   "source": [
    "from sklearn.datasets import load_wine\n",
    "from sklearn.model_selection import train_test_split\n",
    "import numpy as np\n",
    "import math\n",
    "import matplotlib.pyplot as plt\n",
    "from sklearn.model_selection import cross_val_score\n",
    "from sklearn.svm import SVC\n",
    "from sklearn.pipeline import make_pipeline\n",
    "from sklearn.preprocessing import MinMaxScaler\n",
    "from sklearn.preprocessing import Normalizer\n",
    "from sklearn.preprocessing import StandardScaler\n",
    "from sklearn.preprocessing import RobustScaler\n",
    "from sklearn.model_selection import GridSearchCV"
   ]
  },
  {
   "cell_type": "markdown",
   "metadata": {},
   "source": [
    "np.concat"
   ]
  },
  {
   "cell_type": "markdown",
   "metadata": {},
   "source": [
    "#### USPS data"
   ]
  },
  {
   "cell_type": "code",
   "execution_count": 2,
   "metadata": {},
   "outputs": [],
   "source": [
    "X = np.genfromtxt(\"zip.data\", delimiter=\" \",\n",
    "usecols=np.arange(1, 257))\n",
    "\n",
    "y = np.genfromtxt(\"zip.data\", delimiter=\" \", \n",
    "usecols=0)"
   ]
  },
  {
   "cell_type": "code",
   "execution_count": 3,
   "metadata": {},
   "outputs": [
    {
     "data": {
      "text/plain": [
       "(9298,)"
      ]
     },
     "execution_count": 3,
     "metadata": {},
     "output_type": "execute_result"
    }
   ],
   "source": [
    "y.shape"
   ]
  },
  {
   "cell_type": "code",
   "execution_count": 4,
   "metadata": {},
   "outputs": [
    {
     "data": {
      "text/plain": [
       "256"
      ]
     },
     "execution_count": 4,
     "metadata": {},
     "output_type": "execute_result"
    }
   ],
   "source": [
    "X.shape[1]"
   ]
  },
  {
   "cell_type": "code",
   "execution_count": 19,
   "metadata": {},
   "outputs": [
    {
     "name": "stdout",
     "output_type": "stream",
     "text": [
      "[-1.    -1.    -1.    -1.    -1.    -1.    -1.    -1.    -1.    -1.\n",
      " -1.    -1.    -1.    -1.    -1.    -1.    -1.    -1.    -1.    -1.\n",
      " -1.    -0.783 -0.973 -1.    -1.    -1.    -1.    -1.    -1.    -1.\n",
      " -1.    -1.    -1.    -1.    -1.    -1.    -0.364  0.789 -0.371 -1.\n",
      " -1.    -1.    -1.    -1.    -1.    -1.    -1.    -1.    -1.    -1.\n",
      " -1.    -0.467  0.963  0.609 -0.986 -1.    -1.    -1.    -1.    -1.\n",
      " -1.    -1.    -1.    -1.    -1.    -1.    -0.875  0.605  0.96  -0.351\n",
      " -1.    -1.    -1.    -1.    -1.    -1.    -1.    -1.    -1.    -1.\n",
      " -1.    -1.     0.05   1.     0.096 -1.    -1.    -1.    -1.    -1.\n",
      " -1.    -1.    -1.    -1.    -1.    -1.    -1.    -0.582  0.97   0.532\n",
      " -0.922 -1.    -1.    -1.    -1.    -1.    -1.    -0.602  0.307  0.718\n",
      "  0.718 -0.373 -0.998  0.723  1.    -0.431 -1.    -1.    -1.    -1.\n",
      " -1.    -0.817 -0.136  0.808  1.     1.     1.     0.697 -0.67   0.965\n",
      "  0.659 -1.    -1.    -1.    -1.    -1.    -0.512  0.738  1.     0.839\n",
      " -0.336 -0.977  0.433  0.878  0.161  1.    -0.102 -1.    -1.    -1.\n",
      " -1.    -0.643  0.87   0.97   0.264 -0.971 -1.    -0.399  1.     0.117\n",
      "  0.835  0.968 -0.701 -1.    -1.    -1.    -1.     0.198  1.     0.052\n",
      " -1.    -1.    -0.291  0.876  0.79  -0.819  0.392  0.962 -0.461 -1.\n",
      " -1.    -1.    -0.948  0.82   1.    -0.168 -0.475  0.28   0.968  0.88\n",
      " -0.613 -1.    -0.551  0.854  0.98   0.498  0.324  0.324  0.328  0.998\n",
      "  1.     0.97   0.995  0.976  0.25  -0.642 -1.    -1.    -1.    -0.64\n",
      "  0.661  0.971  1.     1.     1.     0.95   0.774  0.774  0.302 -0.522\n",
      " -1.    -1.    -1.    -1.    -1.    -1.    -1.    -0.663 -0.606 -0.606\n",
      " -0.606 -0.688 -1.    -1.    -1.    -1.    -1.    -1.    -1.    -1.\n",
      " -1.    -1.    -1.    -1.    -1.    -1.    -1.    -1.    -1.    -1.\n",
      " -1.    -1.    -1.    -1.    -1.    -1.   ]\n"
     ]
    }
   ],
   "source": [
    "print(X[1])"
   ]
  },
  {
   "cell_type": "markdown",
   "metadata": {},
   "source": [
    "#### Wine data"
   ]
  },
  {
   "cell_type": "code",
   "execution_count": 6,
   "metadata": {},
   "outputs": [],
   "source": [
    "wine = load_wine()"
   ]
  },
  {
   "cell_type": "markdown",
   "metadata": {},
   "source": [
    "# 2"
   ]
  },
  {
   "cell_type": "markdown",
   "metadata": {},
   "source": [
    "#### USPS data"
   ]
  },
  {
   "cell_type": "code",
   "execution_count": 7,
   "metadata": {},
   "outputs": [
    {
     "data": {
      "text/plain": [
       "(2325, 256)"
      ]
     },
     "execution_count": 7,
     "metadata": {},
     "output_type": "execute_result"
    }
   ],
   "source": [
    "X_train, X_test, y_train, y_test = train_test_split(X, y, random_state=1201)\n",
    "X_test.shape"
   ]
  },
  {
   "cell_type": "markdown",
   "metadata": {},
   "source": [
    "#### Wine data"
   ]
  },
  {
   "cell_type": "code",
   "execution_count": 8,
   "metadata": {},
   "outputs": [
    {
     "data": {
      "text/plain": [
       "(133,)"
      ]
     },
     "execution_count": 8,
     "metadata": {},
     "output_type": "execute_result"
    }
   ],
   "source": [
    "X_train_w, X_test_w, y_train_w, y_test_w = train_test_split(wine.data, wine.target, random_state=1201)\n",
    "y_train_w.shape"
   ]
  },
  {
   "cell_type": "markdown",
   "metadata": {},
   "source": [
    "# 3"
   ]
  },
  {
   "cell_type": "markdown",
   "metadata": {},
   "source": [
    "#### USPS data"
   ]
  },
  {
   "cell_type": "code",
   "execution_count": 9,
   "metadata": {},
   "outputs": [
    {
     "name": "stderr",
     "output_type": "stream",
     "text": [
      "/home/ubuntu/.local/lib/python3.6/site-packages/sklearn/svm/base.py:196: FutureWarning: The default value of gamma will change from 'auto' to 'scale' in version 0.22 to account better for unscaled features. Set gamma explicitly to 'auto' or 'scale' to avoid this warning.\n",
      "  \"avoid this warning.\", FutureWarning)\n",
      "/home/ubuntu/.local/lib/python3.6/site-packages/sklearn/model_selection/_split.py:2053: FutureWarning: You should specify a value for 'cv' instead of relying on the default value. The default value will change from 3 to 5 in version 0.22.\n",
      "  warnings.warn(CV_WARNING, FutureWarning)\n",
      "/home/ubuntu/.local/lib/python3.6/site-packages/sklearn/svm/base.py:196: FutureWarning: The default value of gamma will change from 'auto' to 'scale' in version 0.22 to account better for unscaled features. Set gamma explicitly to 'auto' or 'scale' to avoid this warning.\n",
      "  \"avoid this warning.\", FutureWarning)\n",
      "/home/ubuntu/.local/lib/python3.6/site-packages/sklearn/svm/base.py:196: FutureWarning: The default value of gamma will change from 'auto' to 'scale' in version 0.22 to account better for unscaled features. Set gamma explicitly to 'auto' or 'scale' to avoid this warning.\n",
      "  \"avoid this warning.\", FutureWarning)\n",
      "/home/ubuntu/.local/lib/python3.6/site-packages/sklearn/svm/base.py:196: FutureWarning: The default value of gamma will change from 'auto' to 'scale' in version 0.22 to account better for unscaled features. Set gamma explicitly to 'auto' or 'scale' to avoid this warning.\n",
      "  \"avoid this warning.\", FutureWarning)\n"
     ]
    },
    {
     "name": "stdout",
     "output_type": "stream",
     "text": [
      "0.964723864260248\n"
     ]
    }
   ],
   "source": [
    "svm1 = SVC()\n",
    "svm1.fit(X_train, y_train)\n",
    "scores = cross_val_score(svm1, X_train, y_train)\n",
    "score = np.mean(scores)\n",
    "print(score)"
   ]
  },
  {
   "cell_type": "markdown",
   "metadata": {},
   "source": [
    "#### Wine data"
   ]
  },
  {
   "cell_type": "code",
   "execution_count": 10,
   "metadata": {},
   "outputs": [
    {
     "name": "stdout",
     "output_type": "stream",
     "text": [
      "0.4442721791559001\n"
     ]
    },
    {
     "name": "stderr",
     "output_type": "stream",
     "text": [
      "/home/ubuntu/.local/lib/python3.6/site-packages/sklearn/svm/base.py:196: FutureWarning: The default value of gamma will change from 'auto' to 'scale' in version 0.22 to account better for unscaled features. Set gamma explicitly to 'auto' or 'scale' to avoid this warning.\n",
      "  \"avoid this warning.\", FutureWarning)\n",
      "/home/ubuntu/.local/lib/python3.6/site-packages/sklearn/model_selection/_split.py:2053: FutureWarning: You should specify a value for 'cv' instead of relying on the default value. The default value will change from 3 to 5 in version 0.22.\n",
      "  warnings.warn(CV_WARNING, FutureWarning)\n",
      "/home/ubuntu/.local/lib/python3.6/site-packages/sklearn/svm/base.py:196: FutureWarning: The default value of gamma will change from 'auto' to 'scale' in version 0.22 to account better for unscaled features. Set gamma explicitly to 'auto' or 'scale' to avoid this warning.\n",
      "  \"avoid this warning.\", FutureWarning)\n",
      "/home/ubuntu/.local/lib/python3.6/site-packages/sklearn/svm/base.py:196: FutureWarning: The default value of gamma will change from 'auto' to 'scale' in version 0.22 to account better for unscaled features. Set gamma explicitly to 'auto' or 'scale' to avoid this warning.\n",
      "  \"avoid this warning.\", FutureWarning)\n",
      "/home/ubuntu/.local/lib/python3.6/site-packages/sklearn/svm/base.py:196: FutureWarning: The default value of gamma will change from 'auto' to 'scale' in version 0.22 to account better for unscaled features. Set gamma explicitly to 'auto' or 'scale' to avoid this warning.\n",
      "  \"avoid this warning.\", FutureWarning)\n"
     ]
    }
   ],
   "source": [
    "svm2 = SVC()\n",
    "svm2.fit(X_train_w, y_train_w)\n",
    "scores = cross_val_score(svm2, X_train_w, y_train_w)\n",
    "score = np.mean(scores)\n",
    "print(score)"
   ]
  },
  {
   "cell_type": "markdown",
   "metadata": {},
   "source": [
    "# 4"
   ]
  },
  {
   "cell_type": "markdown",
   "metadata": {},
   "source": [
    "#### USPS data"
   ]
  },
  {
   "cell_type": "code",
   "execution_count": 11,
   "metadata": {},
   "outputs": [
    {
     "data": {
      "text/plain": [
       "0.9694623655913979"
      ]
     },
     "execution_count": 11,
     "metadata": {},
     "output_type": "execute_result"
    }
   ],
   "source": [
    "svm1.score(X_test, y_test)"
   ]
  },
  {
   "cell_type": "markdown",
   "metadata": {},
   "source": [
    "#### Wine data"
   ]
  },
  {
   "cell_type": "code",
   "execution_count": 12,
   "metadata": {},
   "outputs": [
    {
     "data": {
      "text/plain": [
       "0.4666666666666667"
      ]
     },
     "execution_count": 12,
     "metadata": {},
     "output_type": "execute_result"
    }
   ],
   "source": [
    "svm2.score(X_test_w, y_test_w)"
   ]
  },
  {
   "cell_type": "markdown",
   "metadata": {},
   "source": [
    "# 5"
   ]
  },
  {
   "cell_type": "code",
   "execution_count": 13,
   "metadata": {},
   "outputs": [],
   "source": [
    "pipe1 = make_pipeline(MinMaxScaler(), SVC())\n",
    "pipe2 = make_pipeline(StandardScaler(), SVC())"
   ]
  },
  {
   "cell_type": "markdown",
   "metadata": {},
   "source": [
    "#### USPS data"
   ]
  },
  {
   "cell_type": "code",
   "execution_count": 14,
   "metadata": {},
   "outputs": [
    {
     "name": "stderr",
     "output_type": "stream",
     "text": [
      "/home/ubuntu/.local/lib/python3.6/site-packages/sklearn/svm/base.py:196: FutureWarning: The default value of gamma will change from 'auto' to 'scale' in version 0.22 to account better for unscaled features. Set gamma explicitly to 'auto' or 'scale' to avoid this warning.\n",
      "  \"avoid this warning.\", FutureWarning)\n"
     ]
    },
    {
     "name": "stdout",
     "output_type": "stream",
     "text": [
      "Best cross-validation accuracy: 0.28438261867202064\n",
      "Test set score: 0.29333333333333333\n",
      "Best parameters: {'svc__C': 10, 'svc__gamma': 1}\n"
     ]
    }
   ],
   "source": [
    "pipe1 = make_pipeline(MinMaxScaler(), SVC())\n",
    "pipe1.fit(X_train, y_train)\n",
    "param_grid = {'svc__C': [1, 10],\n",
    "'svc__gamma': [1, 10]}\n",
    "grid = GridSearchCV(pipe1, param_grid = param_grid, cv=5)\n",
    "grid.fit(X_train, y_train)\n",
    "print(\"Best cross-validation accuracy:\", grid.best_score_)\n",
    "print(\"Test set score:\", grid.score(X_test, y_test))\n",
    "print(\"Best parameters:\", grid.best_params_)"
   ]
  },
  {
   "cell_type": "code",
   "execution_count": 15,
   "metadata": {
    "scrolled": true
   },
   "outputs": [
    {
     "name": "stdout",
     "output_type": "stream",
     "text": [
      "Best cross-validation accuracy: 0.28438261867202064\n",
      "Test set score: 0.29333333333333333\n",
      "Best parameters: {'svc__C': 10, 'svc__gamma': 1}\n"
     ]
    }
   ],
   "source": [
    "pipe2 = make_pipeline(StandardScaler(), SVC())\n",
    "pipe2.fit(X_train, y_train)\n",
    "param_grid = {'svc__C': [1, 10],\n",
    "'svc__gamma': [1, 10]}\n",
    "grid = GridSearchCV(pipe1, param_grid = param_grid, cv=5)\n",
    "grid.fit(X_train, y_train)\n",
    "print(\"Best cross-validation accuracy:\", grid.best_score_)\n",
    "print(\"Test set score:\", grid.score(X_test, y_test))\n",
    "print(\"Best parameters:\", grid.best_params_)"
   ]
  },
  {
   "cell_type": "markdown",
   "metadata": {},
   "source": [
    "#### Wine data"
   ]
  },
  {
   "cell_type": "code",
   "execution_count": 16,
   "metadata": {},
   "outputs": [
    {
     "name": "stdout",
     "output_type": "stream",
     "text": [
      "Best cross-validation accuracy: 0.9924812030075187\n",
      "Test set score: 0.9777777777777777\n",
      "Best parameters: {'svc__C': 10, 'svc__gamma': 1}\n"
     ]
    },
    {
     "name": "stderr",
     "output_type": "stream",
     "text": [
      "/home/ubuntu/.local/lib/python3.6/site-packages/sklearn/svm/base.py:196: FutureWarning: The default value of gamma will change from 'auto' to 'scale' in version 0.22 to account better for unscaled features. Set gamma explicitly to 'auto' or 'scale' to avoid this warning.\n",
      "  \"avoid this warning.\", FutureWarning)\n",
      "/home/ubuntu/.local/lib/python3.6/site-packages/sklearn/model_selection/_search.py:841: DeprecationWarning: The default of the `iid` parameter will change from True to False in version 0.22 and will be removed in 0.24. This will change numeric results when test-set sizes are unequal.\n",
      "  DeprecationWarning)\n"
     ]
    }
   ],
   "source": [
    "pipe1 = make_pipeline(MinMaxScaler(), SVC())\n",
    "pipe1.fit(X_train_w, y_train_w)\n",
    "param_grid = {'svc__C': [1, 10],\n",
    "'svc__gamma': [1, 10]}\n",
    "grid = GridSearchCV(pipe1, param_grid = param_grid, cv=5)\n",
    "grid.fit(X_train_w, y_train_w)\n",
    "print(\"Best cross-validation accuracy:\", grid.best_score_)\n",
    "print(\"Test set score:\", grid.score(X_test_w, y_test_w))\n",
    "print(\"Best parameters:\", grid.best_params_)"
   ]
  },
  {
   "cell_type": "code",
   "execution_count": 17,
   "metadata": {},
   "outputs": [
    {
     "name": "stdout",
     "output_type": "stream",
     "text": [
      "Best cross-validation accuracy: 0.6466165413533834\n",
      "Test set score: 0.7111111111111111\n",
      "Best parameters: {'svc__C': 10, 'svc__gamma': 1}\n"
     ]
    },
    {
     "name": "stderr",
     "output_type": "stream",
     "text": [
      "/home/ubuntu/.local/lib/python3.6/site-packages/sklearn/model_selection/_search.py:841: DeprecationWarning: The default of the `iid` parameter will change from True to False in version 0.22 and will be removed in 0.24. This will change numeric results when test-set sizes are unequal.\n",
      "  DeprecationWarning)\n"
     ]
    }
   ],
   "source": [
    "pipe2 = make_pipeline(StandardScaler(), SVC())\n",
    "pipe2.fit(X_train_w, y_train_w)\n",
    "param_grid = {'svc__C': [1, 10],\n",
    "'svc__gamma': [1, 10]}\n",
    "grid = GridSearchCV(pipe2, param_grid = param_grid, cv=5)\n",
    "grid.fit(X_train_w, y_train_w)\n",
    "print(\"Best cross-validation accuracy:\", grid.best_score_)\n",
    "print(\"Test set score:\", grid.score(X_test_w, y_test_w))\n",
    "print(\"Best parameters:\", grid.best_params_)"
   ]
  },
  {
   "cell_type": "markdown",
   "metadata": {},
   "source": [
    "# 6"
   ]
  },
  {
   "cell_type": "code",
   "execution_count": 18,
   "metadata": {},
   "outputs": [
    {
     "ename": "SyntaxError",
     "evalue": "invalid syntax (<ipython-input-18-4d87c62322f9>, line 1)",
     "output_type": "error",
     "traceback": [
      "\u001b[0;36m  File \u001b[0;32m\"<ipython-input-18-4d87c62322f9>\"\u001b[0;36m, line \u001b[0;32m1\u001b[0m\n\u001b[0;31m    Fit chosen pipeline\u001b[0m\n\u001b[0m             ^\u001b[0m\n\u001b[0;31mSyntaxError\u001b[0m\u001b[0;31m:\u001b[0m invalid syntax\n"
     ]
    }
   ],
   "source": [
    "Fit chosen pipeline"
   ]
  },
  {
   "cell_type": "markdown",
   "metadata": {},
   "source": [
    "# 7"
   ]
  },
  {
   "cell_type": "code",
   "execution_count": null,
   "metadata": {},
   "outputs": [],
   "source": []
  }
 ],
 "metadata": {
  "kernelspec": {
   "display_name": "Python 3",
   "language": "python",
   "name": "python3"
  },
  "language_info": {
   "codemirror_mode": {
    "name": "ipython",
    "version": 3
   },
   "file_extension": ".py",
   "mimetype": "text/x-python",
   "name": "python",
   "nbconvert_exporter": "python",
   "pygments_lexer": "ipython3",
   "version": "3.6.6"
  }
 },
 "nbformat": 4,
 "nbformat_minor": 2
}
